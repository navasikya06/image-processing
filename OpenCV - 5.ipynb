{
 "cells": [
  {
   "cell_type": "code",
   "execution_count": 1,
   "metadata": {},
   "outputs": [],
   "source": [
    "import cv2\n",
    "import numpy as np\n",
    "import sys\n",
    "import os\n",
    "import math\n",
    "import matplotlib.pyplot as plt"
   ]
  },
  {
   "cell_type": "code",
   "execution_count": 2,
   "metadata": {},
   "outputs": [],
   "source": [
    "card = cv2.imread('./card.jpg')\n",
    "text = cv2.imread('./text.jpg')\n",
    "#cv2.imshow('Card image', card)\n",
    "#cv2.imshow('Text image', text)\n",
    "#cv2.waitKey(0)"
   ]
  },
  {
   "cell_type": "code",
   "execution_count": 59,
   "metadata": {},
   "outputs": [],
   "source": [
    "text = cv2.imread('./text.jpg')\n",
    "copy = text.copy()\n",
    "\n",
    "ref_gray = cv2.cvtColor(copy, cv2.COLOR_BGR2GRAY)\n",
    "thresh = 145\n",
    "im_bw = cv2.threshold(ref_gray, thresh, 255, cv2.THRESH_BINARY)[1]\n",
    "\n",
    "#kernel_size = 5\n",
    "#blur_gray = cv2.GaussianBlur(ref_gray,(kernel_size, kernel_size),0)\n",
    "\n",
    "kernel = np.ones((4,4), np.uint8)\n",
    "\n",
    "erosion = cv2.erode(im_bw,kernel,iterations = 1)\n",
    "\n",
    "kernel = np.ones((3,3), np.uint8)\n",
    "edges = cv2.dilate(erosion, kernel, iterations=1)\n",
    "\n",
    "closing = cv2.morphologyEx(im_bw, cv2.MORPH_CLOSE, kernel)\n",
    "\n",
    "im2, contours, hierarchy = cv2.findContours(erosion.copy(), cv2.RETR_LIST, \\\n",
    "                                                cv2.CHAIN_APPROX_SIMPLE )\n",
    "\n",
    "for contour in contours:\n",
    "    area = cv2.contourArea(contour)\n",
    "    text_area = text.shape[0] * text.shape[1]\n",
    "    if 0.0001< area/float(text_area) < 0.002:\n",
    "        (x,y,w,h) = cv2.boundingRect(contour)\n",
    "        cv2.rectangle(text, (x,y), (x+w,y+h), (0,255,0), 2)\n",
    "\n",
    "#v2.imshow('thresh', im_bw)\n",
    "cv2.imshow('Text', text)\n",
    "#v2.imshow('closing', closing)\n",
    "#v2.imshow('erosion', erosion)\n",
    "#v2.imshow('edges', edges)\n",
    "cv2.waitKey(0)\n",
    "cv2.destroyAllWindows()"
   ]
  },
  {
   "cell_type": "code",
   "execution_count": 60,
   "metadata": {},
   "outputs": [
    {
     "data": {
      "text/plain": [
       "True"
      ]
     },
     "execution_count": 60,
     "metadata": {},
     "output_type": "execute_result"
    }
   ],
   "source": [
    "cv2.imwrite('out.jpg', text)"
   ]
  },
  {
   "cell_type": "code",
   "execution_count": 15,
   "metadata": {},
   "outputs": [],
   "source": [
    "card = cv2.imread('./cell_pic.jpg')\n",
    "orig = card.copy()\n",
    "\n",
    "rows, cols = card.shape[:2]\n",
    "card = cv2.resize(card,(int(cols*0.5), int(rows*0.5)), interpolation = cv2.INTER_AREA)\n",
    "\n",
    "gray = cv2.cvtColor(card,cv2.COLOR_BGR2GRAY)\n",
    "\n",
    "kernel_size = 5\n",
    "blur_gray = cv2.GaussianBlur(gray,(kernel_size, kernel_size),0)\n",
    "\n",
    "low_threshold = 50\n",
    "high_threshold = 150\n",
    "edges = cv2.Canny(blur_gray, low_threshold, high_threshold)\n",
    "\n",
    "cv2.imshow('line', card)\n",
    "cv2.imshow('line 1', edges)\n",
    "cv2.waitKey(0)\n",
    "cv2.destroyAllWindows()"
   ]
  },
  {
   "cell_type": "code",
   "execution_count": 16,
   "metadata": {},
   "outputs": [],
   "source": [
    "im2, contours, hierarchy = cv2.findContours(edges.copy(), cv2.RETR_LIST, \\\n",
    "                                                cv2.CHAIN_APPROX_SIMPLE )\n",
    "\n",
    "contours = sorted(contours, key=cv2.contourArea, reverse=True)[:1]\n",
    "perimeter = cv2.arcLength(contours[0], True) \n",
    "ROIdimensions = cv2.approxPolyDP(contours[0], 0.02*perimeter, True)\n",
    "\n",
    "cv2.drawContours(card, [ROIdimensions], -1, (0,255,0), 2)\n",
    "cv2.imshow('contour', card)\n",
    "cv2.waitKey(0)\n",
    "cv2.destroyAllWindows()"
   ]
  },
  {
   "cell_type": "code",
   "execution_count": 17,
   "metadata": {},
   "outputs": [],
   "source": [
    "# reshape coordinates array\n",
    "ROIdimensions = ROIdimensions.reshape(4,2)\n",
    "\n",
    "# list to hold ROI coordinates\n",
    "rect = np.zeros((4,2), dtype='float32')\n",
    "                \n",
    "# top left corner will have the smallest sum, \n",
    "# bottom right corner will have the largest sum\n",
    "                \n",
    "s = np.sum(ROIdimensions, axis=1)\n",
    "rect[0] = ROIdimensions[np.argmin(s)]\n",
    "rect[2] = ROIdimensions[np.argmax(s)]\n",
    "                \n",
    "# top-right will have smallest difference\n",
    "# botton left will have largest difference\n",
    "diff = np.diff(ROIdimensions, axis=1)\n",
    "rect[1] = ROIdimensions[np.argmin(diff)]\n",
    "rect[3] = ROIdimensions[np.argmax(diff)]\n",
    "                \n",
    "# top-left, top-right, bottom-right, bottom-left\n",
    "(tl, tr, br, bl) = rect\n",
    "                \n",
    "# compute width of ROI\n",
    "widthA = np.sqrt((tl[0] - tr[0])**2 + (tl[1] - tr[1])**2 )\n",
    "widthB = np.sqrt((bl[0] - br[0])**2 + (bl[1] - br[1])**2 )\n",
    "maxWidth = max(int(widthA), int(widthB))\n",
    "                \n",
    "# compute height of ROI\n",
    "heightA = np.sqrt((tl[0] - bl[0])**2 + (tl[1] - bl[1])**2 )\n",
    "heightB = np.sqrt((tr[0] - br[0])**2 + (tr[1] - br[1])**2 )\n",
    "maxHeight = max(int(heightA), int(heightB))"
   ]
  },
  {
   "cell_type": "code",
   "execution_count": 18,
   "metadata": {},
   "outputs": [],
   "source": [
    "# Set of destinations points for \"birds eye view\"\n",
    "# dimension of the new image\n",
    "dst = np.array([\n",
    "    [0,0],\n",
    "    [maxWidth-1, 0],\n",
    "    [maxWidth-1, maxHeight-1],\n",
    "    [0, maxHeight-1]], dtype=\"float32\")\n",
    "\n",
    "# compute the perspective transform matrix and then apply it\n",
    "transformMatrix = cv2.getPerspectiveTransform(rect, dst)\n",
    "\n",
    "# transform ROI\n",
    "scan = cv2.warpPerspective(card, transformMatrix, (maxWidth, maxHeight))\n",
    "\n",
    "# lets see the wraped document\n",
    "cv2.imshow(\"Scaned\",scan)\n",
    "cv2.waitKey(0)\n",
    "cv2.destroyAllWindows()"
   ]
  }
 ],
 "metadata": {
  "kernelspec": {
   "display_name": "Python 3",
   "language": "python",
   "name": "python3"
  },
  "language_info": {
   "codemirror_mode": {
    "name": "ipython",
    "version": 3
   },
   "file_extension": ".py",
   "mimetype": "text/x-python",
   "name": "python",
   "nbconvert_exporter": "python",
   "pygments_lexer": "ipython3",
   "version": "3.6.9"
  }
 },
 "nbformat": 4,
 "nbformat_minor": 2
}
