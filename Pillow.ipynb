{
 "cells": [
  {
   "cell_type": "code",
   "execution_count": 45,
   "metadata": {},
   "outputs": [
    {
     "name": "stdout",
     "output_type": "stream",
     "text": [
      "Defaulting to user installation because normal site-packages is not writeable\n",
      "Requirement already satisfied: pillow in /home/tchu/.local/lib/python3.7/site-packages (7.1.2)\n",
      "Defaulting to user installation because normal site-packages is not writeable\n",
      "Requirement already satisfied: pytesseract in /home/tchu/.local/lib/python3.7/site-packages (0.3.4)\n",
      "Requirement already satisfied: Pillow in /home/tchu/.local/lib/python3.7/site-packages (from pytesseract) (7.1.2)\n"
     ]
    }
   ],
   "source": [
    "!pip install pillow\n",
    "!pip install pytesseract"
   ]
  },
  {
   "cell_type": "code",
   "execution_count": 47,
   "metadata": {},
   "outputs": [],
   "source": [
    "from PIL import Image, ImageDraw, ImageFont\n",
    "from __future__ import print_function\n",
    "import sys\n",
    "from random import randint\n",
    "#import pytesseract\n",
    "import argparse\n",
    "import cv2\n",
    "import os"
   ]
  },
  {
   "cell_type": "code",
   "execution_count": 11,
   "metadata": {},
   "outputs": [
    {
     "name": "stdout",
     "output_type": "stream",
     "text": [
      "JPEG (1000, 1250) RGB\n"
     ]
    }
   ],
   "source": [
    "im = Image.open(\"thing.jpeg\")\n",
    "print(im.format, im.size, im.mode)\n",
    "im.show()"
   ]
  },
  {
   "cell_type": "code",
   "execution_count": 8,
   "metadata": {},
   "outputs": [],
   "source": [
    "box = (100, 100, 400, 400)\n",
    "region = im.crop(box)\n",
    "\n",
    "region = region.transpose(Image.ROTATE_180)\n",
    "im.paste(region, box)\n",
    "im.show()"
   ]
  },
  {
   "cell_type": "code",
   "execution_count": 12,
   "metadata": {},
   "outputs": [],
   "source": [
    "out = im.point(lambda i: i * 1.2)\n",
    "\n",
    "# split the image into individual bands\n",
    "source = im.split()\n",
    "\n",
    "R, G, B = 0, 1, 2\n",
    "\n",
    "# select regions where red is less than 100\n",
    "mask = source[R].point(lambda i: i < 100 and 255)\n",
    "\n",
    "# process the green band\n",
    "out = source[G].point(lambda i: i * 0.7)\n",
    "\n",
    "# paste the processed band back, but only where red was < 100\n",
    "source[G].paste(out, None, mask)\n",
    "\n",
    "# build a new multiband image\n",
    "im = Image.merge(im.mode, source)\n",
    "\n",
    "im.show()"
   ]
  },
  {
   "cell_type": "code",
   "execution_count": 13,
   "metadata": {},
   "outputs": [],
   "source": [
    "orig_image = Image.open(\"thing.jpeg\")\n",
    "\n",
    "width, height = orig_image.size\n",
    "mode = orig_image.mode\n",
    "\n",
    "orig_pixel_map = orig_image.load()\n",
    "\n",
    "# Look at the pixel in the top left corner.\n",
    "first_pixel = orig_pixel_map[0, 0]\n",
    "\n",
    "new_image = Image.new(mode, (width, height))\n",
    "\n",
    "new_image.show()\n",
    "\n",
    "new_pixel_map = new_image.load()\n",
    "\n",
    "# Modify each pixel in the new image.\n",
    "for x in range(width):\n",
    "    for y in range(height):\n",
    "        # Copy the original pixel to the new pixel map.\n",
    "        new_pixel_map[x, y] = orig_pixel_map[x, y]\n",
    "\n",
    "new_image.show()\n",
    "\n",
    "#new_filename = f\"modified_{filename}\"\n",
    "#new_filepath = f\"modified_images/{new_filename}\"\n"
   ]
  },
  {
   "cell_type": "code",
   "execution_count": 19,
   "metadata": {},
   "outputs": [],
   "source": [
    "width, height = (1200, 800)\n",
    "mode = 'RGB'\n",
    "my_image = Image.new(mode, (width, height))\n",
    "\n",
    "# Load all the pixels.\n",
    "my_pixels = my_image.load()\n",
    "\n",
    "# Loop through all the pixels, and set each color randomly.\n",
    "for x in range(width):\n",
    "    for y in range(height):\n",
    "        r = randint(0, 255)\n",
    "        g = randint(0, 255)\n",
    "        b = randint(0, 255)\n",
    "        pixel = (r, g, b)\n",
    "        my_pixels[x, y] = pixel\n",
    "        \n",
    "my_image.show()"
   ]
  },
  {
   "cell_type": "code",
   "execution_count": 53,
   "metadata": {},
   "outputs": [],
   "source": [
    "base = Image.open(\"thing.jpeg\").convert('RGBA')\n",
    "\n",
    "# make a blank image for the text, initialized to transparent text color\n",
    "txt = Image.new('RGBA', base.size, (255,255,255,0))\n",
    "\n",
    "# get a font\n",
    "fnt = ImageFont.truetype('Pillow/Tests/fonts/FreeMono.ttf', 40)\n",
    "\n",
    "# get a drawing context\n",
    "d = ImageDraw.Draw(txt)\n",
    "\n",
    "f = open(\"text.txt\", \"r\")\n",
    "text = f.read()\n",
    "\n",
    "# draw text, half opacity\n",
    "d.text((10,100), text, font=fnt, fill='black')\n",
    "# draw text, full opacity\n",
    "d.text((10,200), \"World\", font=fnt, fill='black')\n",
    "d.line((100,200, 150,300), fill='black', width=3)\n",
    "\n",
    "out = Image.alpha_composite(base, txt)\n",
    "\n",
    "out.save(\"thingy.png\")\n",
    "\n",
    "out.show()"
   ]
  },
  {
   "cell_type": "code",
   "execution_count": 78,
   "metadata": {},
   "outputs": [],
   "source": [
    "base = Image.open(\"id.jpg\").convert('RGBA')\n",
    "\n",
    "# make a blank image for the text, initialized to transparent text color\n",
    "txt = Image.new('RGBA', base.size, (255,255,255,0))\n",
    "\n",
    "# get a font\n",
    "fnt = ImageFont.truetype('Arial Unicode MS.ttf', 58)\n",
    "\n",
    "# get a drawing context\n",
    "d = ImageDraw.Draw(txt)\n",
    "\n",
    "# draw text, half opacity\n",
    "#d.text((10,100), text, font=fnt, fill='black')\n",
    "# draw text, full opacity\n",
    "d.text((550,250), \"10 Nguyễn Khuyến\", font=fnt, fill='black')\n",
    "\n",
    "out = Image.alpha_composite(base, txt)\n",
    "\n",
    "out.save(\"id.png\")\n",
    "\n",
    "out.show()"
   ]
  },
  {
   "cell_type": "code",
   "execution_count": null,
   "metadata": {},
   "outputs": [],
   "source": []
  }
 ],
 "metadata": {
  "kernelspec": {
   "display_name": "Python 3",
   "language": "python",
   "name": "python3"
  },
  "language_info": {
   "codemirror_mode": {
    "name": "ipython",
    "version": 3
   },
   "file_extension": ".py",
   "mimetype": "text/x-python",
   "name": "python",
   "nbconvert_exporter": "python",
   "pygments_lexer": "ipython3",
   "version": "3.6.9"
  }
 },
 "nbformat": 4,
 "nbformat_minor": 2
}
